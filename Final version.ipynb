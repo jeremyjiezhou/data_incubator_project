{
 "cells": [
  {
   "cell_type": "code",
   "execution_count": 11,
   "metadata": {},
   "outputs": [
    {
     "name": "stdout",
     "output_type": "stream",
     "text": [
      "Total number of incidents: 2277779\n",
      "The most common type of incident rate is 0.3614828304238471\n",
      "Ratio of 111-building fire to 651 - Smoke scare: 0.08789046762106846\n"
     ]
    }
   ],
   "source": [
    "import numpy as np\n",
    "import pandas as pd\n",
    "import matplotlib.pyplot as plt\n",
    "import random\n",
    "\n",
    "#Question 1\n",
    "# Read the data in, can also use dtype guessing to handle the column memory demanding\n",
    "# In this case, trun the low_memory = Flase to handle\n",
    "train_data=pd.read_csv(\"data/Incidents_Responded_to_by_Fire_Companies.csv\",low_memory=False)\n",
    "\n",
    "# train_data=train_data.drop(\"Id\",1)\n",
    "train_data.head()\n",
    "\n",
    "print('Total number of incidents: {}'.format(len(train_data)))\n",
    "\n",
    "value = np.array(train_data['INCIDENT_TYPE_DESC'])\n",
    "import collections\n",
    "count = collections.Counter(value)\n",
    "max_count_of_incident = list(count.most_common(1))\n",
    "a = max_count_of_incident[0][1]/len(train_data)\n",
    "print('The most common type of incident rate is {}'.format( a ))\n",
    "\n",
    "#Question 2 \n",
    "print('Ratio of 111-building fire to 651 - Smoke scare: {}'.format(count['111 - Building fire']/count['651 - Smoke scare, odor of smoke']))\n",
    "\n"
   ]
  },
  {
   "cell_type": "code",
   "execution_count": 12,
   "metadata": {
    "scrolled": true
   },
   "outputs": [
    {
     "name": "stdout",
     "output_type": "stream",
     "text": [
      "3.0497825036249395\n"
     ]
    }
   ],
   "source": [
    "# Question 3\n",
    "\n",
    "a = train_data.loc[(train_data[\"INCIDENT_TYPE_DESC\"]==\"710 - Malicious, mischievous false call, other\") & (train_data[\"BOROUGH_DESC\"]==\"1 - Manhattan\") , [\"INCIDENT_TYPE_DESC\",\"BOROUGH_DESC\"]]\n",
    "b = train_data.loc[(train_data[\"INCIDENT_TYPE_DESC\"]==\"710 - Malicious, mischievous false call, other\") & (train_data[\"BOROUGH_DESC\"]==\"3 - Staten Island\") , [\"INCIDENT_TYPE_DESC\",\"BOROUGH_DESC\"]]\n",
    "print(a['BOROUGH_DESC'].count()/b['BOROUGH_DESC'].count())\n"
   ]
  },
  {
   "cell_type": "code",
   "execution_count": 15,
   "metadata": {},
   "outputs": [
    {
     "name": "stdout",
     "output_type": "stream",
     "text": [
      "0.25    2.85\n",
      "0.50    3.45\n",
      "0.75    4.15\n",
      "Name: Time_difference_minutes, dtype: float64\n"
     ]
    }
   ],
   "source": [
    "#Question 4\n",
    "\n",
    "#train_data=pd.read_csv(\"data/Incidents_Responded_to_by_Fire_Companies.csv\",low_memory=False)\n",
    "Building_fire_start = train_data.loc[(train_data[\"INCIDENT_TYPE_DESC\"]==\"111 - Building fire\") & (train_data[\"INCIDENT_DATE_TIME\"]) , [\"INCIDENT_TYPE_DESC\",\"INCIDENT_DATE_TIME\"]]\n",
    "Building_fire_arrive = train_data.loc[(train_data[\"INCIDENT_TYPE_DESC\"]==\"111 - Building fire\") & (train_data[\"ARRIVAL_DATE_TIME\"]) , [\"INCIDENT_TYPE_DESC\",\"ARRIVAL_DATE_TIME\"]]\n",
    "\n",
    "Building_fire_start['INCIDENT_DATE_TIME'] = pd.to_datetime(Building_fire_start['INCIDENT_DATE_TIME'])\n",
    "Building_fire_arrive['ARRIVAL_DATE_TIME'] = pd.to_datetime(Building_fire_arrive['ARRIVAL_DATE_TIME'])\n",
    "\n",
    "Building_fire_arrive['Time_difference'] = Building_fire_arrive['ARRIVAL_DATE_TIME'] - Building_fire_start['INCIDENT_DATE_TIME']\n",
    "Building_fire_arrive['Time_difference_second'] = Building_fire_arrive['Time_difference'].dt.total_seconds()\n",
    "\n",
    "Building_fire_arrive['Time_difference_minutes'] = Building_fire_arrive['Time_difference_second'] / 60.0\n",
    "output_quantile = Building_fire_arrive['Time_difference_minutes'].quantile([0.25,0.5,0.75])\n",
    "print(output_quantile)\n"
   ]
  },
  {
   "cell_type": "code",
   "execution_count": 16,
   "metadata": {},
   "outputs": [
    {
     "name": "stdout",
     "output_type": "stream",
     "text": [
      "The highest cooking fire propotion is 0.050846824501505385\n"
     ]
    },
    {
     "name": "stderr",
     "output_type": "stream",
     "text": [
      "C:\\Users\\Jie\\Anaconda3\\lib\\site-packages\\ipykernel_launcher.py:4: SettingWithCopyWarning: \n",
      "A value is trying to be set on a copy of a slice from a DataFrame.\n",
      "Try using .loc[row_indexer,col_indexer] = value instead\n",
      "\n",
      "See the caveats in the documentation: http://pandas.pydata.org/pandas-docs/stable/indexing.html#indexing-view-versus-copy\n",
      "  after removing the cwd from sys.path.\n"
     ]
    }
   ],
   "source": [
    "# Question 5 \n",
    "\n",
    "Cooking_fire_and_time = train_data[[\"INCIDENT_TYPE_DESC\" , \"INCIDENT_DATE_TIME\"]]\n",
    "Cooking_fire_and_time['INCIDENT_DATE_TIME'] = pd.to_datetime(Cooking_fire_and_time['INCIDENT_DATE_TIME']).dt.hour\n",
    "\n",
    "Cooking_fire_and_time\n",
    "#==\"113 - Cooking fire, confined to container\"\n",
    "a = Cooking_fire_and_time.loc[Cooking_fire_and_time['INCIDENT_TYPE_DESC'] ==\"113 - Cooking fire, confined to container\"]\n",
    "group1 = Cooking_fire_and_time.groupby('INCIDENT_DATE_TIME', as_index=False)['INCIDENT_TYPE_DESC'].count()\n",
    "\n",
    "group2 = a.groupby('INCIDENT_DATE_TIME', as_index=False)['INCIDENT_TYPE_DESC'].count()\n",
    "\n",
    "group3 = group2['INCIDENT_TYPE_DESC']/group1['INCIDENT_TYPE_DESC']\n",
    "print('The highest cooking fire propotion is {}'.format(group3.max()))\n",
    "\n"
   ]
  },
  {
   "cell_type": "code",
   "execution_count": 19,
   "metadata": {},
   "outputs": [
    {
     "name": "stdout",
     "output_type": "stream",
     "text": [
      "0.5943492242479399\n"
     ]
    }
   ],
   "source": [
    "# Question 6 \n",
    "import numpy\n",
    "resident_zip_code =pd.read_csv(\"data/2010+Census+Population+By+Zipcode+(ZCTA).csv\",low_memory=False)\n",
    "resident_zip_code[\"Zip Code ZCTA\"] = resident_zip_code[\"Zip Code ZCTA\"].astype('float')\n",
    "resident_zip_code = resident_zip_code.rename(columns={\"Zip Code ZCTA\": \"ZIP_CODE\"})\n",
    "zip_incident = train_data.loc[(train_data[\"INCIDENT_TYPE_DESC\"]==\"111 - Building fire\") & (train_data[\"ZIP_CODE\"]) , [\"INCIDENT_TYPE_DESC\",\"ZIP_CODE\"]]\n",
    "zip_incident[\"ZIP_CODE\"] = zip_incident[\"ZIP_CODE\"].astype(float)\n",
    "\n",
    "population_zip_fire = pd.merge(zip_incident,resident_zip_code,how='inner', on = ['ZIP_CODE'] )\n",
    "\n",
    "count_fire_with_pop = population_zip_fire.groupby(population_zip_fire['2010 Census Population']).size().reset_index(name='Num. Building fire')\n",
    "count_fire_with_pop['2010 Census Population']\n",
    "\n",
    "results = {}\n",
    "coeffs = numpy.polyfit(count_fire_with_pop['2010 Census Population'],count_fire_with_pop['Num. Building fire'],2)\n",
    "x = count_fire_with_pop['2010 Census Population']\n",
    "y = count_fire_with_pop['Num. Building fire']\n",
    "p = numpy.poly1d(coeffs)\n",
    "# fit values, and mean\n",
    "yhat = p(x)                         # or [p(z) for z in x]\n",
    "ybar = numpy.sum(y)/len(y)          # or sum(y)/len(y)\n",
    "ssreg = numpy.sum((yhat-ybar)**2)   # or sum([ (yihat - ybar)**2 for yihat in yhat])\n",
    "sstot = numpy.sum((y - ybar)**2)    # or sum([ (yi - ybar)**2 for yi in y])\n",
    "results['determination'] = ssreg / sstot\n",
    "print(results['determination'])\n",
    "\n"
   ]
  },
  {
   "cell_type": "code",
   "execution_count": 20,
   "metadata": {},
   "outputs": [
    {
     "name": "stdout",
     "output_type": "stream",
     "text": [
      "[6501 2145  923  481  235] [1181  586  348  249  158]\n",
      "[7682 2731 1271  730  393]\n",
      "[7682 2741 1276  730  393]\n",
      "[6501 2155  926  481  235] [1181  586  350  249  158]\n",
      "[0.84626399 0.78620941 0.72570533 0.65890411 0.59796438] [0.15373601 0.21379059 0.27429467 0.34109589 0.40203562]\n",
      "[0.18166436 0.27192575 0.37796976 0.51767152 0.67234043]\n",
      "[25, 35, 45, 55, 65]\n",
      "0.3306884900414385\n"
     ]
    }
   ],
   "source": [
    "# Question 7\n",
    "\n",
    "CO_detector = train_data.loc[train_data[\"CO_DETECTOR_PRESENT_DESC\"].isin(['Yes','No']) & train_data[\"CO_DETECTOR_PRESENT_DESC\"]]\n",
    "CO_detector = CO_detector[[\"CO_DETECTOR_PRESENT_DESC\",\"INCIDENT_DATE_TIME\",\"LAST_UNIT_CLEARED_DATE_TIME\"]]\n",
    "CO_detector['INCIDENT_DATE_TIME'] = pd.to_datetime(CO_detector['INCIDENT_DATE_TIME'])\n",
    "CO_detector['LAST_UNIT_CLEARED_DATE_TIME'] = pd.to_datetime(CO_detector['LAST_UNIT_CLEARED_DATE_TIME'])\n",
    "\n",
    "CO_detector['Time_difference'] = CO_detector['LAST_UNIT_CLEARED_DATE_TIME'] - CO_detector['INCIDENT_DATE_TIME']\n",
    "CO_detector['Time_difference_minutes'] = CO_detector['Time_difference'].dt.total_seconds()/60.0\n",
    "\n",
    "bins = [20,30,40,50,60,70]\n",
    "group_names = ['20-30','30-40','40-50','50-60','60-70']\n",
    "\n",
    "CO_detector[\"Time_difference_minutes\"] = CO_detector[\"Time_difference_minutes\"].astype('float')\n",
    "CO_detector = CO_detector.loc[CO_detector[\"Time_difference_minutes\"]>19.9999 ]\n",
    "CO_detector = CO_detector.loc[CO_detector[\"Time_difference_minutes\"]<70.001 ]\n",
    "\n",
    "time_group_1 = CO_detector.groupby( pd.cut(CO_detector['Time_difference_minutes'],bins,include_lowest=True) ).count()\n",
    "time_group_Yes = CO_detector.loc[CO_detector[\"CO_DETECTOR_PRESENT_DESC\"] == 'Yes' ]\n",
    "\n",
    "time_group_Yes = time_group_Yes.groupby( pd.cut(time_group_Yes['Time_difference_minutes'],bins,include_lowest=True) ).count()\n",
    "time_group_No  = CO_detector.loc[CO_detector[\"CO_DETECTOR_PRESENT_DESC\"] == 'No']\n",
    "\n",
    "time_group_No = time_group_No.groupby( pd.cut(time_group_No['Time_difference_minutes'],bins,include_lowest=True) ).count()\n",
    "a= time_group_No['CO_DETECTOR_PRESENT_DESC']/time_group_1['CO_DETECTOR_PRESENT_DESC']\n",
    "\n",
    "b= time_group_Yes['INCIDENT_DATE_TIME']/time_group_1['INCIDENT_DATE_TIME']\n",
    "a = np.array(a)\n",
    "\n",
    "time_group_1 = time_group_1.rename(index=str,columns ={\"CO_DETECTOR_PRESENT_DESC\" : \"count_total\"})\n",
    "time_group_1 = time_group_1[\"count_total\"]\n",
    "time_group_1 = np.array(time_group_1)\n",
    "\n",
    "time_group_Yes  = time_group_Yes.rename(index=str,columns ={\"CO_DETECTOR_PRESENT_DESC\" : \"count_yes\"})\n",
    "time_group_Yes = time_group_Yes[\"count_yes\"]\n",
    "time_group_Yes = np.array(time_group_Yes)\n",
    "\n",
    "time_group_No  = time_group_No.rename(index=str,columns ={\"CO_DETECTOR_PRESENT_DESC\" : \"count_no\"})\n",
    "time_group_No = time_group_No[\"count_no\"]\n",
    "time_group_No = np.array(time_group_No)\n",
    "print(time_group_Yes,time_group_No)\n",
    "\n",
    "number30 = CO_detector.loc[CO_detector[\"Time_difference_minutes\"]==30.00 ]\n",
    "number30 = number30['CO_DETECTOR_PRESENT_DESC'].count()\n",
    "number40 = CO_detector.loc[CO_detector[\"Time_difference_minutes\"]==40.00 ]\n",
    "number40 = number40['CO_DETECTOR_PRESENT_DESC'].count()\n",
    "number50 = CO_detector.loc[CO_detector[\"Time_difference_minutes\"]==50.00 ]\n",
    "number50 = number50['CO_DETECTOR_PRESENT_DESC'].count()\n",
    "number60 = CO_detector.loc[CO_detector[\"Time_difference_minutes\"]==60.00 ]\n",
    "number60 = number60['CO_DETECTOR_PRESENT_DESC'].count()\n",
    "\n",
    "num_add = [number30,number40,number50,number60]\n",
    "print(time_group_1)\n",
    "\n",
    "for i in range(1,len(time_group_1)-1):\n",
    "    time_group_1[i] += num_add[i-1]\n",
    "\n",
    "number30y = CO_detector.loc[CO_detector[\"Time_difference_minutes\"]==30.00 ]\n",
    "number30y = number30y.loc[number30y[\"CO_DETECTOR_PRESENT_DESC\"] == 'Yes' ]\n",
    "number30y = number30y['CO_DETECTOR_PRESENT_DESC'].count()\n",
    "\n",
    "number40y = CO_detector.loc[CO_detector[\"Time_difference_minutes\"]==40.00 ]\n",
    "number40y = number40y.loc[number40y[\"CO_DETECTOR_PRESENT_DESC\"] == 'Yes' ]\n",
    "number40y = number40y['CO_DETECTOR_PRESENT_DESC'].count()\n",
    "\n",
    "print(time_group_1)\n",
    "time_group_Yes[1] += number30y\n",
    "time_group_No[1] += num_add[0]-number30y\n",
    "\n",
    "time_group_Yes[2] += number40y\n",
    "time_group_No[2] += num_add[1]-number40y\n",
    "print(time_group_Yes,time_group_No)\n",
    "\n",
    "ratio_yes = time_group_Yes/time_group_1\n",
    "ratio_no  = time_group_No/time_group_1\n",
    "print(ratio_yes,ratio_no)\n",
    "\n",
    "ratio = ratio_no/ratio_yes\n",
    "print(ratio)\n",
    "\n",
    "mid_point_bins = [25,35,45,55,65]\n",
    "print(mid_point_bins)\n",
    "\n",
    "p1 = numpy.polyfit (mid_point_bins,ratio,1)\n",
    "result = numpy.polyval(p1,39)\n",
    "print(result)\n"
   ]
  },
  {
   "cell_type": "code",
   "execution_count": 21,
   "metadata": {},
   "outputs": [
    {
     "name": "stdout",
     "output_type": "stream",
     "text": [
      "4785\n",
      "859\n",
      "0.8478029766123317 0.15219702338766833\n",
      "0.4838676421615926\n"
     ]
    }
   ],
   "source": [
    "# Question 8\n",
    "\n",
    "CO_detector_NO = train_data.loc[train_data[\"CO_DETECTOR_PRESENT_DESC\"].isin(['No']) & train_data[\"CO_DETECTOR_PRESENT_DESC\"]]\n",
    "CO_detector_NO = CO_detector_NO[[\"CO_DETECTOR_PRESENT_DESC\",\"INCIDENT_DATE_TIME\",\"LAST_UNIT_CLEARED_DATE_TIME\"]]\n",
    "CO_detector_NO['INCIDENT_DATE_TIME'] = pd.to_datetime(CO_detector_NO['INCIDENT_DATE_TIME'])\n",
    "CO_detector_NO['LAST_UNIT_CLEARED_DATE_TIME'] = pd.to_datetime(CO_detector_NO['LAST_UNIT_CLEARED_DATE_TIME'])\n",
    "CO_detector_NO['Time_difference'] = CO_detector_NO['LAST_UNIT_CLEARED_DATE_TIME'] - CO_detector_NO['INCIDENT_DATE_TIME']\n",
    "CO_detector_NO['Time_difference_minutes'] = CO_detector_NO['Time_difference'].dt.total_seconds()/60.0\n",
    "\n",
    "\n",
    "small_than60 = CO_detector_NO.loc[CO_detector_NO[\"Time_difference_minutes\"]<=60 ]\n",
    "count_small60 = small_than60['CO_DETECTOR_PRESENT_DESC'].count()\n",
    "print(count_small60)\n",
    "over_than60 = CO_detector_NO.loc[CO_detector_NO[\"Time_difference_minutes\"]>60 ]\n",
    "over_small60 = over_than60['CO_DETECTOR_PRESENT_DESC'].count()\n",
    "print(over_small60)\n",
    "\n",
    "total = count_small60+ over_small60\n",
    "pro1 = count_small60/total\n",
    "pro2 = over_small60/total\n",
    "print(pro1,pro2)\n",
    "\n",
    "from scipy.stats import chisquare\n",
    "chisq, p = chisquare([pro1,pro2],ddof=1)\n",
    "print(chisq)\n"
   ]
  }
 ],
 "metadata": {
  "kernelspec": {
   "display_name": "Python 3",
   "language": "python",
   "name": "python3"
  },
  "language_info": {
   "codemirror_mode": {
    "name": "ipython",
    "version": 3
   },
   "file_extension": ".py",
   "mimetype": "text/x-python",
   "name": "python",
   "nbconvert_exporter": "python",
   "pygments_lexer": "ipython3",
   "version": "3.6.5"
  }
 },
 "nbformat": 4,
 "nbformat_minor": 2
}
